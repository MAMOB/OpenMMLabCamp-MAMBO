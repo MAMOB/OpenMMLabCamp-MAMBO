{
 "cells": [
  {
   "cell_type": "code",
   "execution_count": 1,
   "id": "98a0c7f8-04ae-45e6-9fc8-96dd487e9479",
   "metadata": {},
   "outputs": [],
   "source": [
    "import os\n",
    "os.chdir('mmpretrain')\n",
    "# 进入目录\n",
    "os.chdir('data')"
   ]
  },
  {
   "cell_type": "code",
   "execution_count": 3,
   "id": "2d3aa755-55c4-499a-88c1-7b7385e2f497",
   "metadata": {},
   "outputs": [
    {
     "name": "stdout",
     "output_type": "stream",
     "text": [
      "/home/pengzhihui/WorkSpace/playground/mmpretrain/data\n"
     ]
    }
   ],
   "source": [
    "!pwd"
   ]
  },
  {
   "cell_type": "code",
   "execution_count": 4,
   "id": "0a35a0b1-2a7a-45c4-99e1-a5da4ca09595",
   "metadata": {},
   "outputs": [
    {
     "name": "stdout",
     "output_type": "stream",
     "text": [
      "cats_dogs_dataset  cats_dogs_dataset.tar  fruit30_train.tar\n"
     ]
    }
   ],
   "source": [
    "!ls"
   ]
  },
  {
   "cell_type": "code",
   "execution_count": 5,
   "id": "fc2cd949-3996-4445-8651-9e46b09f88aa",
   "metadata": {},
   "outputs": [],
   "source": [
    "!mkdir fruit30_train"
   ]
  },
  {
   "cell_type": "code",
   "execution_count": 6,
   "id": "b7dd8441-61e2-4e54-be4c-1d94f2e3cdea",
   "metadata": {},
   "outputs": [
    {
     "name": "stdout",
     "output_type": "stream",
     "text": [
      "cats_dogs_dataset  cats_dogs_dataset.tar  fruit30_train  fruit30_train.tar\n"
     ]
    }
   ],
   "source": [
    "!ls"
   ]
  },
  {
   "cell_type": "code",
   "execution_count": 7,
   "id": "fc48aa7e-427f-419f-9363-38280acc012a",
   "metadata": {},
   "outputs": [],
   "source": [
    "!tar -xf fruit30_train.tar -C ./fruit30_train"
   ]
  },
  {
   "cell_type": "code",
   "execution_count": 8,
   "id": "30c43bac-57bb-407b-bf6b-f9911752beb9",
   "metadata": {},
   "outputs": [
    {
     "name": "stdout",
     "output_type": "stream",
     "text": [
      "cats_dogs_dataset  cats_dogs_dataset.tar  fruit30_train  fruit30_train.tar\n"
     ]
    }
   ],
   "source": [
    "!ls"
   ]
  },
  {
   "cell_type": "code",
   "execution_count": 12,
   "id": "3796937b-073f-43ce-8110-e13bac5902e8",
   "metadata": {},
   "outputs": [
    {
     "name": "stdout",
     "output_type": "stream",
     "text": [
      "\u001b[01;34m./fruit30_train\u001b[00m\n",
      "├── \u001b[01;34m哈密瓜\u001b[00m [151 entries exceeds filelimit, not opening dir]\n",
      "├── \u001b[01;34m圣女果\u001b[00m [153 entries exceeds filelimit, not opening dir]\n",
      "├── \u001b[01;34m山竹\u001b[00m [143 entries exceeds filelimit, not opening dir]\n",
      "├── \u001b[01;34m杨梅\u001b[00m [149 entries exceeds filelimit, not opening dir]\n",
      "├── \u001b[01;34m柚子\u001b[00m [148 entries exceeds filelimit, not opening dir]\n",
      "├── \u001b[01;34m柠檬\u001b[00m [119 entries exceeds filelimit, not opening dir]\n",
      "├── \u001b[01;34m桂圆\u001b[00m [153 entries exceeds filelimit, not opening dir]\n",
      "├── \u001b[01;34m梨\u001b[00m [151 entries exceeds filelimit, not opening dir]\n",
      "├── \u001b[01;34m椰子\u001b[00m [154 entries exceeds filelimit, not opening dir]\n",
      "├── \u001b[01;34m榴莲\u001b[00m [148 entries exceeds filelimit, not opening dir]\n",
      "├── \u001b[01;34m火龙果\u001b[00m [146 entries exceeds filelimit, not opening dir]\n",
      "├── \u001b[01;34m猕猴桃\u001b[00m [150 entries exceeds filelimit, not opening dir]\n",
      "├── \u001b[01;34m石榴\u001b[00m [150 entries exceeds filelimit, not opening dir]\n",
      "├── \u001b[01;34m砂糖橘\u001b[00m [142 entries exceeds filelimit, not opening dir]\n",
      "├── \u001b[01;34m胡萝卜\u001b[00m [146 entries exceeds filelimit, not opening dir]\n",
      "├── \u001b[01;34m脐橙\u001b[00m [151 entries exceeds filelimit, not opening dir]\n",
      "├── \u001b[01;34m芒果\u001b[00m [132 entries exceeds filelimit, not opening dir]\n",
      "├── \u001b[01;34m苦瓜\u001b[00m [144 entries exceeds filelimit, not opening dir]\n",
      "├── \u001b[01;34m苹果-红\u001b[00m [142 entries exceeds filelimit, not opening dir]\n",
      "├── \u001b[01;34m苹果-青\u001b[00m [151 entries exceeds filelimit, not opening dir]\n",
      "├── \u001b[01;34m草莓\u001b[00m [153 entries exceeds filelimit, not opening dir]\n",
      "├── \u001b[01;34m荔枝\u001b[00m [156 entries exceeds filelimit, not opening dir]\n",
      "├── \u001b[01;34m菠萝\u001b[00m [152 entries exceeds filelimit, not opening dir]\n",
      "├── \u001b[01;34m葡萄-白\u001b[00m [124 entries exceeds filelimit, not opening dir]\n",
      "├── \u001b[01;34m葡萄-红\u001b[00m [156 entries exceeds filelimit, not opening dir]\n",
      "├── \u001b[01;34m西瓜\u001b[00m [149 entries exceeds filelimit, not opening dir]\n",
      "├── \u001b[01;34m西红柿\u001b[00m [148 entries exceeds filelimit, not opening dir]\n",
      "├── \u001b[01;34m车厘子\u001b[00m [129 entries exceeds filelimit, not opening dir]\n",
      "├── \u001b[01;34m香蕉\u001b[00m [145 entries exceeds filelimit, not opening dir]\n",
      "└── \u001b[01;34m黄瓜\u001b[00m [140 entries exceeds filelimit, not opening dir]\n",
      "\n",
      "30 directories, 0 files\n"
     ]
    }
   ],
   "source": [
    "!tree ./fruit30_train --filelimit=50"
   ]
  },
  {
   "cell_type": "code",
   "execution_count": 14,
   "id": "8e3b5dbc-74dd-42c4-b601-531179ceee81",
   "metadata": {},
   "outputs": [
    {
     "name": "stdout",
     "output_type": "stream",
     "text": [
      "cats_dogs_dataset  cats_dogs_dataset.tar  fruit30_train  fruit30_train.tar\n",
      "/home/pengzhihui/WorkSpace/playground/mmpretrain/data\n"
     ]
    }
   ],
   "source": [
    "!ls\n",
    "!pwd"
   ]
  },
  {
   "cell_type": "code",
   "execution_count": 15,
   "id": "6d7da193-7c61-4ed1-b81e-3375632ddce7",
   "metadata": {},
   "outputs": [],
   "source": [
    "import os\n",
    "import random\n",
    "import shutil\n",
    "\n",
    "dataset_dir = './fruit30_train'\n",
    "train_dir = './train'\n",
    "val_dir = './val'\n",
    "train_ratio = 0.7  # 训练集占总数据集的比例\n",
    "\n",
    "# 创建目标目录\n",
    "os.makedirs(train_dir, exist_ok=True)\n",
    "os.makedirs(val_dir, exist_ok=True)\n",
    "\n",
    "# 遍历每个水果类别\n",
    "for fruit_class in os.listdir(dataset_dir):\n",
    "    class_dir = os.path.join(dataset_dir, fruit_class)\n",
    "    if os.path.isdir(class_dir):\n",
    "        # 创建类别在训练集和验证集中的目录\n",
    "        os.makedirs(os.path.join(train_dir, fruit_class), exist_ok=True)\n",
    "        os.makedirs(os.path.join(val_dir, fruit_class), exist_ok=True)\n",
    "        \n",
    "        # 获取该类别下的所有图像文件\n",
    "        image_files = [f for f in os.listdir(class_dir) if os.path.isfile(os.path.join(class_dir, f))]\n",
    "        \n",
    "        # 随机打乱图像文件顺序\n",
    "        random.shuffle(image_files)\n",
    "        \n",
    "        # 计算划分的索引\n",
    "        split_index = int(len(image_files) * train_ratio)\n",
    "        \n",
    "        # 将图像文件划分到训练集和验证集目录\n",
    "        for i, image_file in enumerate(image_files):\n",
    "            src_path = os.path.join(class_dir, image_file)\n",
    "            if i < split_index:\n",
    "                dst_path = os.path.join(train_dir, fruit_class, image_file)\n",
    "            else:\n",
    "                dst_path = os.path.join(val_dir, fruit_class, image_file)\n",
    "            shutil.copy(src_path, dst_path)\n"
   ]
  },
  {
   "cell_type": "code",
   "execution_count": 17,
   "id": "8f59397a-11d5-4305-854e-e2c49668765f",
   "metadata": {},
   "outputs": [],
   "source": [
    "import os\n",
    "import shutil\n",
    "\n",
    "train_dir = './train'\n",
    "val_dir = './val'\n",
    "output_dir = './fruit30_dataset'\n",
    "\n",
    "# 创建目标目录\n",
    "os.makedirs(output_dir, exist_ok=True)\n",
    "train_output_dir = os.path.join(output_dir, 'train')\n",
    "val_output_dir = os.path.join(output_dir, 'val')\n",
    "os.makedirs(train_output_dir, exist_ok=True)\n",
    "os.makedirs(val_output_dir, exist_ok=True)\n",
    "\n",
    "# 将训练集的图像文件按照类别放置到新的目录结构中\n",
    "for fruit_class in os.listdir(train_dir):\n",
    "    class_dir = os.path.join(train_dir, fruit_class)\n",
    "    output_class_dir = os.path.join(train_output_dir, fruit_class)\n",
    "    os.makedirs(output_class_dir, exist_ok=True)\n",
    "    \n",
    "    if os.path.isdir(class_dir):\n",
    "        image_files = [f for f in os.listdir(class_dir) if os.path.isfile(os.path.join(class_dir, f))]\n",
    "        \n",
    "        for image_file in image_files:\n",
    "            src_path = os.path.join(class_dir, image_file)\n",
    "            dst_path = os.path.join(output_class_dir, image_file)\n",
    "            shutil.copy(src_path, dst_path)\n",
    "\n",
    "# 将验证集的图像文件按照类别放置到新的目录结构中\n",
    "for fruit_class in os.listdir(val_dir):\n",
    "    class_dir = os.path.join(val_dir, fruit_class)\n",
    "    output_class_dir = os.path.join(val_output_dir, fruit_class)\n",
    "    os.makedirs(output_class_dir, exist_ok=True)\n",
    "    \n",
    "    if os.path.isdir(class_dir):\n",
    "        image_files = [f for f in os.listdir(class_dir) if os.path.isfile(os.path.join(class_dir, f))]\n",
    "        \n",
    "        for image_file in image_files:\n",
    "            src_path = os.path.join(class_dir, image_file)\n",
    "            dst_path = os.path.join(output_class_dir, image_file)\n",
    "            shutil.copy(src_path, dst_path)\n"
   ]
  },
  {
   "cell_type": "code",
   "execution_count": 18,
   "id": "d4baae1d-d3a8-45d7-b1eb-4043eaf250e8",
   "metadata": {},
   "outputs": [],
   "source": [
    "import shutil\n",
    "\n",
    "shutil.rmtree('./train')\n",
    "shutil.rmtree('./val')\n"
   ]
  },
  {
   "cell_type": "code",
   "execution_count": null,
   "id": "8b79e428-6cb2-408d-837a-d41bd2239ac6",
   "metadata": {},
   "outputs": [],
   "source": []
  }
 ],
 "metadata": {
  "kernelspec": {
   "display_name": "Python 3 (ipykernel)",
   "language": "python",
   "name": "python3"
  },
  "language_info": {
   "codemirror_mode": {
    "name": "ipython",
    "version": 3
   },
   "file_extension": ".py",
   "mimetype": "text/x-python",
   "name": "python",
   "nbconvert_exporter": "python",
   "pygments_lexer": "ipython3",
   "version": "3.10.11"
  }
 },
 "nbformat": 4,
 "nbformat_minor": 5
}
