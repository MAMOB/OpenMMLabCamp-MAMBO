{
 "cells": [
  {
   "cell_type": "code",
   "execution_count": 5,
   "id": "246a1c3f-3f92-442d-805d-a9aa487086c2",
   "metadata": {},
   "outputs": [],
   "source": [
    "# 安装MMPretrain\n",
    "!pip3 install torch torchvision torchaudio"
   ]
  },
  {
   "cell_type": "code",
   "execution_count": null,
   "id": "11544e5e-1de5-4f6d-969f-a47d4f8cbab3",
   "metadata": {},
   "outputs": [],
   "source": [
    "# 安装其他工具\n",
    "!pip install openmim"
   ]
  },
  {
   "cell_type": "code",
   "execution_count": null,
   "id": "21a1ce7f-ee09-46fc-ba9f-565094272b2e",
   "metadata": {},
   "outputs": [],
   "source": [
    "!git clone https://github.com/open-mmlab/mmpretrain.git\n",
    "#clone仓库"
   ]
  },
  {
   "cell_type": "code",
   "execution_count": null,
   "id": "6b9dc44d-2a98-477c-924f-c863f7a10cc1",
   "metadata": {},
   "outputs": [],
   "source": [
    "# 进入主目录\n",
    "import os\n",
    "os.chdir('mmpretrain')"
   ]
  },
  {
   "cell_type": "code",
   "execution_count": null,
   "id": "f0ce7aa4-d002-4190-ad18-39ff2a149aa3",
   "metadata": {},
   "outputs": [],
   "source": [
    "!mim install -e \".[multimodel]\"\n",
    "# 位置要在pretrain文件夹内，【multimodel】表示要安装多模态相关的依赖。"
   ]
  },
  {
   "cell_type": "code",
   "execution_count": null,
   "id": "b5f2de9f-6c2f-48ff-96af-a7db4d6a92be",
   "metadata": {},
   "outputs": [],
   "source": []
  },
  {
   "cell_type": "code",
   "execution_count": null,
   "id": "732417b7-6100-4827-a268-f7a99cf59416",
   "metadata": {},
   "outputs": [],
   "source": []
  },
  {
   "cell_type": "code",
   "execution_count": null,
   "id": "aa275a82-80a8-4112-88ec-ebdbfe8c59d9",
   "metadata": {},
   "outputs": [],
   "source": []
  },
  {
   "cell_type": "code",
   "execution_count": null,
   "id": "72110814-b607-4398-b2bd-14966b307f14",
   "metadata": {},
   "outputs": [],
   "source": []
  },
  {
   "cell_type": "code",
   "execution_count": null,
   "id": "4b1eb80d-b5a2-4ead-820a-febd22c531cd",
   "metadata": {},
   "outputs": [],
   "source": []
  },
  {
   "cell_type": "code",
   "execution_count": null,
   "id": "0e81524d-e42b-4e50-9d70-6a036f356ed4",
   "metadata": {},
   "outputs": [],
   "source": []
  },
  {
   "cell_type": "code",
   "execution_count": null,
   "id": "5ed855d4-9b0a-42e3-8722-8989a797593d",
   "metadata": {},
   "outputs": [],
   "source": []
  },
  {
   "cell_type": "code",
   "execution_count": null,
   "id": "ad8be1c6-2f2c-4ec9-a31a-06e92f272558",
   "metadata": {},
   "outputs": [],
   "source": []
  },
  {
   "cell_type": "code",
   "execution_count": null,
   "id": "13e10217-1510-489e-8213-6994d64a70fd",
   "metadata": {},
   "outputs": [],
   "source": []
  },
  {
   "cell_type": "code",
   "execution_count": 1,
   "id": "7a585fce-7031-47e9-a538-5fdfbd9c70b1",
   "metadata": {},
   "outputs": [
    {
     "name": "stdout",
     "output_type": "stream",
     "text": [
      "Pytorch 版本 2.0.1+cu117\n",
      "torchvision版本 0.15.2+cu117\n",
      "CUDA 是否可用 True\n"
     ]
    }
   ],
   "source": [
    "# 检查 Pytorch\n",
    "import torch, torchvision\n",
    "print('Pytorch 版本', torch.__version__)\n",
    "print('torchvision版本', torchvision.__version__)\n",
    "print('CUDA 是否可用',torch.cuda.is_available())"
   ]
  },
  {
   "cell_type": "code",
   "execution_count": 2,
   "id": "fff62f34-0c66-4baf-900a-ea8a1d8daa38",
   "metadata": {},
   "outputs": [
    {
     "name": "stdout",
     "output_type": "stream",
     "text": [
      "CUDA版本 11.7\n",
      "编译器版本 GCC 9.3\n"
     ]
    }
   ],
   "source": [
    "# 检查 mmcv\n",
    "from mmcv.ops import get_compiling_cuda_version, get_compiler_version\n",
    "print('CUDA版本', get_compiling_cuda_version())\n",
    "print('编译器版本', get_compiler_version())"
   ]
  },
  {
   "cell_type": "code",
   "execution_count": 3,
   "id": "4b372602-10cf-4477-9e28-39585ed250c6",
   "metadata": {},
   "outputs": [
    {
     "name": "stdout",
     "output_type": "stream",
     "text": [
      "mmpretrain版本 1.0.0rc8\n"
     ]
    }
   ],
   "source": [
    "# 检查 mmpose\n",
    "import mmpretrain\n",
    "print('mmpretrain版本', mmpretrain.__version__)"
   ]
  },
  {
   "cell_type": "code",
   "execution_count": null,
   "id": "ff2c3ff6-8e67-4245-9785-fbb7bce3ec76",
   "metadata": {},
   "outputs": [
    {
     "name": "stdout",
     "output_type": "stream",
     "text": [
      "Python 3.10.11 (main, Apr 20 2023, 19:02:41) [GCC 11.2.0] on linux\n",
      "Type \"help\", \"copyright\", \"credits\" or \"license\" for more information.\n",
      ">>> "
     ]
    }
   ],
   "source": []
  },
  {
   "cell_type": "code",
   "execution_count": null,
   "id": "98ec2b03-3585-4b09-98d6-2b96cdaceb0d",
   "metadata": {},
   "outputs": [],
   "source": []
  }
 ],
 "metadata": {
  "kernelspec": {
   "display_name": "Python 3 (ipykernel)",
   "language": "python",
   "name": "python3"
  },
  "language_info": {
   "codemirror_mode": {
    "name": "ipython",
    "version": 3
   },
   "file_extension": ".py",
   "mimetype": "text/x-python",
   "name": "python",
   "nbconvert_exporter": "python",
   "pygments_lexer": "ipython3",
   "version": "3.10.11"
  }
 },
 "nbformat": 4,
 "nbformat_minor": 5
}
